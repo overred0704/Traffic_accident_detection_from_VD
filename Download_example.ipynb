{
  "nbformat": 4,
  "nbformat_minor": 0,
  "metadata": {
    "colab": {
      "name": "Download example.ipynb",
      "provenance": [],
      "authorship_tag": "ABX9TyMcb+nz6WDrE5kdbjRK8D79",
      "include_colab_link": true
    },
    "kernelspec": {
      "name": "python3",
      "display_name": "Python 3"
    },
    "language_info": {
      "name": "python"
    }
  },
  "cells": [
    {
      "cell_type": "markdown",
      "metadata": {
        "id": "view-in-github",
        "colab_type": "text"
      },
      "source": [
        "<a href=\"https://colab.research.google.com/github/overred0704/Traffic_accident_detection_from_VD/blob/master/Download_example.ipynb\" target=\"_parent\"><img src=\"https://colab.research.google.com/assets/colab-badge.svg\" alt=\"Open In Colab\"/></a>"
      ]
    },
    {
      "cell_type": "markdown",
      "metadata": {
        "id": "G6Xxu_FrLsNA"
      },
      "source": [
        "#build object"
      ]
    },
    {
      "cell_type": "markdown",
      "metadata": {
        "id": "D8yDKuikLzev"
      },
      "source": [
        "##import package"
      ]
    },
    {
      "cell_type": "code",
      "metadata": {
        "id": "K2wxhvb3sE_6"
      },
      "source": [
        "import pandas as pd\n",
        "import numpy as np\n",
        "import gzip\n",
        "import urllib\n",
        "from urllib.request import urlopen\n",
        "import requests\n",
        "import os\n",
        "from xml.dom import minidom\n",
        "import zipfile"
      ],
      "execution_count": null,
      "outputs": []
    },
    {
      "cell_type": "markdown",
      "metadata": {
        "id": "1G46MJe4L1Rb"
      },
      "source": [
        "##build converter"
      ]
    },
    {
      "cell_type": "code",
      "metadata": {
        "id": "QUOO_umhsJ8m"
      },
      "source": [
        "class Converter():\n",
        " \n",
        "  def start(self):\n",
        "    xmldoc = minidom.parse('temp.xml')\n",
        "    VDID = xmldoc.getElementsByTagName('VDID')\n",
        "    LinkID = xmldoc.getElementsByTagName('LinkID')\n",
        "    LaneID = xmldoc.getElementsByTagName('LaneID')\n",
        "    Speed = xmldoc.getElementsByTagName('Speed')\n",
        "    Occupancy = xmldoc.getElementsByTagName('Occupancy')\n",
        "    Volume = xmldoc.getElementsByTagName('Volume')\n",
        "\n",
        "    #VDID+linkID\n",
        "    cols1 = [\"VDID\", \"LinkID\"] \n",
        "    rows1 = []\n",
        "\n",
        "    for i in range(len(VDID)):\n",
        "      rows1.append({'VDID':VDID[i].firstChild.data,\n",
        "            'LinkID':LinkID[i].firstChild.data})\n",
        "    df1 = pd.DataFrame(rows1, columns=cols1)\n",
        "\n",
        "    #Speed, occupancy, volume\n",
        "    cols2 = [\"Speed\", \"Occupancy\" ,'Volume'] \n",
        "    rows2 = []\n",
        "\n",
        "    temp_occupancy = []\n",
        "    temp_speed = []\n",
        "    temp_pcu = []\n",
        "    count= 0\n",
        "\n",
        "    for j in range(len(LaneID)-1):\n",
        "      #計算車當量\n",
        "      a,b,c = 3*j,3*j+1,3*j+2\n",
        "      pcu = int(Volume[a].firstChild.data)+(int(Volume[b].firstChild.data))*1.5+(int(Volume[c].firstChild.data))*2\n",
        "      \n",
        "      #如果現在跟下一組都0直接輸出\n",
        "      if int(LaneID[j].firstChild.data)==0 and int(LaneID[j+1].firstChild.data) == 0 :\n",
        "        temp_occupancy.append(int(Occupancy[j].firstChild.data))\n",
        "        temp_speed.append(int(Speed[j*4].firstChild.data))\n",
        "        temp_pcu.append(pcu)\n",
        "\n",
        "        occ , spd , vol = np.mean(temp_occupancy) , np.mean(temp_speed) , np.mean(temp_pcu)\n",
        "        temp_occupancy, temp_speed, temp_pcu = [],[],[]\n",
        "\n",
        "        #print('佔有率:' , occ , '速度:' , spd , '當量:' , vol)\n",
        "        rows2.append({'Speed':spd, 'Occupancy':occ,'Volume':vol})\n",
        "        count +=1\n",
        "\n",
        "      #如果下一組比較大就加\n",
        "      elif int(LaneID[j+1].firstChild.data) > int(LaneID[j].firstChild.data):\n",
        "        temp_occupancy.append(int(Occupancy[j].firstChild.data))\n",
        "        temp_speed.append(int(Speed[j*4].firstChild.data))\n",
        "        temp_pcu.append(pcu)\n",
        "\n",
        "      #如果下一組比較小就結束 取平均 歸零\n",
        "      elif int(LaneID[j+1].firstChild.data) < int(LaneID[j].firstChild.data):\n",
        "        temp_occupancy.append(int(Occupancy[j].firstChild.data))\n",
        "        temp_speed.append(int(Speed[j*4].firstChild.data))\n",
        "        temp_pcu.append(pcu)\n",
        "\n",
        "        occ , spd , vol = np.mean(temp_occupancy) , np.mean(temp_speed) , np.mean(temp_pcu)\n",
        "        temp_occupancy, temp_speed, temp_pcu = [],[],[]\n",
        "\n",
        "        #print('佔有率:' , occ , '速度:' , spd , '當量:' , vol)\n",
        "        rows2.append({'Speed':spd, 'Occupancy':occ,'Volume':vol})\n",
        "        count +=1\n",
        "\n",
        "    #最後一組的輸出\n",
        "    j=len(LaneID)-1\n",
        "    a,b,c = 3*j,3*j+1,3*j+2\n",
        "    pcu = int(Volume[a].firstChild.data)+(int(Volume[b].firstChild.data))*1.5+(int(Volume[c].firstChild.data))*2\n",
        "    temp_occupancy.append(int(Occupancy[j-1].firstChild.data))\n",
        "    temp_speed.append(int(Speed[(j-1)*4].firstChild.data))\n",
        "    temp_pcu.append(pcu)\n",
        "\n",
        "    occ , spd , vol = np.mean(temp_occupancy) , np.mean(temp_speed) , np.mean(temp_pcu)\n",
        "\n",
        "    temp_occupancy, temp_speed, temp_pcu = [],[],[]\n",
        "    count +=1\n",
        "    rows2.append({'Speed':spd, 'Occupancy':occ,'Volume':vol})\n",
        "    #print('佔有率:' , occ , '速度:' , spd , '當量:' , vol)\n",
        "    #print('總數:',count)\n",
        "\n",
        "    df2 = pd.DataFrame(rows2, columns=cols2) \n",
        "    \n",
        "\n",
        "    #concat and save csv file\n",
        "    final = pd.concat([df1,df2],axis=1)\n",
        "    final.to_csv(self.out,encoding=\"utf_8_sig\")\n",
        "    print('Convert is done') \n",
        "    print('-------------------------------') "
      ],
      "execution_count": null,
      "outputs": []
    },
    {
      "cell_type": "markdown",
      "metadata": {
        "id": "NBJ9goT5L4FA"
      },
      "source": [
        "##build downloader"
      ]
    },
    {
      "cell_type": "code",
      "metadata": {
        "id": "1HwjdQOFsCRa"
      },
      "source": [
        "class VD_download(Converter):\n",
        "  def __init__(self, year, month):\n",
        "    self.year = year\n",
        "    self.month = month\n",
        "\n",
        "  def set_start_end(self, start_day ,end_day):\n",
        "    self.start_day = start_day\n",
        "    self.end_day = end_day\n",
        "\n",
        "  def set_path(self, output_path):\n",
        "    self.output_path = output_path\n",
        "\n",
        "  def zip_file(self, filename):\n",
        "    filename = (filename + '.zip')\n",
        "    resource = self.output_path\n",
        "    z = zipfile.ZipFile(filename, 'w')\n",
        "    for f in os.listdir(resource):\n",
        "      if f.endswith('.csv'):\n",
        "        print(f, 'is zipped')\n",
        "        z.write(os.path.join(resource, f), f, zipfile.ZIP_DEFLATED)\n",
        "    print('-------------------------------')\n",
        "    print('zip process is done!')\n",
        "    z.close()\n",
        " \n",
        "  def run(self):\n",
        "    year = str(self.year)\n",
        "\n",
        "    mon = str(0) + str(self.month) if self.month<10 else str(self.month)\n",
        "\n",
        "    for k in range(self.start_day,self.end_day+1):\n",
        "      day = str(0) + str(k) if k <=9 else str(k)\n",
        "      for i in range(0,24):\n",
        "        hours = str(0) + str(i) if i<= 9 else str(i)\n",
        "        for j in range(0,60):\n",
        "          min = str(0) + str(j) if j <= 9 else str(j)\n",
        "\n",
        "          self.get_data(year, mon, day, hours, min)\n",
        "\n",
        "  def get_data(self, year, mon, day, hours, min):\n",
        "\n",
        "    u = 'https://tisvcloud.freeway.gov.tw/history/motc20/VD/'+ year + mon + day + '/VDLive_' + hours + min + '.xml.gz'\n",
        "\n",
        "\n",
        "    try:\n",
        "      urlopen(u)\n",
        "    except:\n",
        "      print(mon,day,hours,min,'is not found')\n",
        "      print('-------------------------------')\n",
        "      pass\n",
        "    else:\n",
        "      file_name = u.split(\"/\")[-1]\n",
        "      urllib.request.urlretrieve(u, file_name)\n",
        "\n",
        "      f=gzip.open(file_name,'r')\n",
        "      xmldata = f.read()\n",
        "      f.close()\n",
        "      print (mon,day,hours,min,'is downloaded')\n",
        "      with open('temp' +'.xml', 'wb') as file:\n",
        "          file.write(xmldata)\n",
        "\n",
        "      self.out = self.output_path + mon + day + hours + min + '.csv'\n",
        "\n",
        "      self.start()"
      ],
      "execution_count": null,
      "outputs": []
    },
    {
      "cell_type": "markdown",
      "metadata": {
        "id": "JrWnn3JlL6xm"
      },
      "source": [
        "##set parameter and run"
      ]
    },
    {
      "cell_type": "code",
      "metadata": {
        "id": "GNI4a_SWsNjv"
      },
      "source": [
        "d = VD_download(2021, 4)"
      ],
      "execution_count": null,
      "outputs": []
    },
    {
      "cell_type": "code",
      "metadata": {
        "id": "MRicFs7zshwn"
      },
      "source": [
        "d.set_path(\"/content/\")\n",
        "d.set_start_end(1,2)"
      ],
      "execution_count": null,
      "outputs": []
    },
    {
      "cell_type": "code",
      "metadata": {
        "id": "RAsq1mNfsn5F"
      },
      "source": [
        "d.run()"
      ],
      "execution_count": null,
      "outputs": []
    },
    {
      "cell_type": "code",
      "metadata": {
        "colab": {
          "base_uri": "https://localhost:8080/"
        },
        "id": "e4rxADpOsokR",
        "outputId": "056c883b-63f4-4662-f811-24ab689f03dc"
      },
      "source": [
        "d.zip_file(\"檔名\")"
      ],
      "execution_count": null,
      "outputs": [
        {
          "output_type": "stream",
          "name": "stdout",
          "text": [
            "04010002.csv is zipped\n",
            "04010000.csv is zipped\n",
            "04010003.csv is zipped\n",
            "04010001.csv is zipped\n",
            "-------------------------------\n",
            "zip process is done!\n"
          ]
        }
      ]
    },
    {
      "cell_type": "markdown",
      "metadata": {
        "id": "ZWYgLFetthTf"
      },
      "source": [
        "#git clone"
      ]
    },
    {
      "cell_type": "code",
      "metadata": {
        "colab": {
          "base_uri": "https://localhost:8080/"
        },
        "id": "Oz20jry2tkGF",
        "outputId": "0241c7cb-6e9d-421d-ba27-fa9aaa286363"
      },
      "source": [
        "!git clone 'https://github.com/overred0704/Traffic_accident_detection_from_VD'\n",
        "from Traffic_accident_detection_from_VD.Download_Function import VD_download"
      ],
      "execution_count": null,
      "outputs": [
        {
          "output_type": "stream",
          "name": "stdout",
          "text": [
            "Cloning into 'Traffic_accident_detection_from_VD'...\n",
            "remote: Enumerating objects: 92, done.\u001b[K\n",
            "remote: Counting objects: 100% (92/92), done.\u001b[K\n",
            "remote: Compressing objects: 100% (88/88), done.\u001b[K\n",
            "remote: Total 92 (delta 39), reused 5 (delta 1), pack-reused 0\u001b[K\n",
            "Unpacking objects: 100% (92/92), done.\n"
          ]
        }
      ]
    },
    {
      "cell_type": "code",
      "metadata": {
        "id": "7-TJr-R2tmzd"
      },
      "source": [
        "d = VD_download(2021, 4)\n",
        "d.set_path(\"/content/\")\n",
        "d.set_start_end(1,2)\n",
        "d.run()"
      ],
      "execution_count": null,
      "outputs": []
    }
  ]
}